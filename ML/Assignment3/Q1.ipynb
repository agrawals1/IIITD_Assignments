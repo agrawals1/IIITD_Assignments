{
 "cells": [
  {
   "cell_type": "code",
   "execution_count": 45,
   "metadata": {},
   "outputs": [],
   "source": [
    "import numpy as np\n",
    "import pandas as pd\n",
    "import matplotlib\n",
    "%matplotlib inline\n",
    "import matplotlib.pyplot as matplot\n",
    "from sklearn.decomposition import PCA\n",
    "import random\n",
    "from IPython.display import display, HTML\n",
    "from itertools import chain\n",
    "from sklearn.metrics import confusion_matrix\n",
    "from sklearn.metrics import accuracy_score\n",
    "import seaborn as sb\n",
    "from sklearn.model_selection import ParameterGrid\n",
    "from sklearn.svm import SVC, LinearSVC\n",
    "import warnings\n",
    "warnings.filterwarnings('ignore')"
   ]
  },
  {
   "cell_type": "markdown",
   "metadata": {},
   "source": [
    "Q1(a)(i) \n",
    "Load MNIST dataset. After necessary data preparation, build a linear SVM classifier. (5 points)"
   ]
  },
  {
   "cell_type": "code",
   "execution_count": 2,
   "metadata": {},
   "outputs": [
    {
     "name": "stderr",
     "output_type": "stream",
     "text": [
      "2022-11-05 15:29:02.862040: I tensorflow/core/platform/cpu_feature_guard.cc:193] This TensorFlow binary is optimized with oneAPI Deep Neural Network Library (oneDNN) to use the following CPU instructions in performance-critical operations:  AVX2 FMA\n",
      "To enable them in other operations, rebuild TensorFlow with the appropriate compiler flags.\n",
      "2022-11-05 15:29:03.006257: W tensorflow/stream_executor/platform/default/dso_loader.cc:64] Could not load dynamic library 'libcudart.so.11.0'; dlerror: libcudart.so.11.0: cannot open shared object file: No such file or directory\n",
      "2022-11-05 15:29:03.006282: I tensorflow/stream_executor/cuda/cudart_stub.cc:29] Ignore above cudart dlerror if you do not have a GPU set up on your machine.\n",
      "2022-11-05 15:29:03.048860: E tensorflow/stream_executor/cuda/cuda_blas.cc:2981] Unable to register cuBLAS factory: Attempting to register factory for plugin cuBLAS when one has already been registered\n",
      "2022-11-05 15:29:03.937639: W tensorflow/stream_executor/platform/default/dso_loader.cc:64] Could not load dynamic library 'libnvinfer.so.7'; dlerror: libnvinfer.so.7: cannot open shared object file: No such file or directory\n",
      "2022-11-05 15:29:03.937790: W tensorflow/stream_executor/platform/default/dso_loader.cc:64] Could not load dynamic library 'libnvinfer_plugin.so.7'; dlerror: libnvinfer_plugin.so.7: cannot open shared object file: No such file or directory\n",
      "2022-11-05 15:29:03.937803: W tensorflow/compiler/tf2tensorrt/utils/py_utils.cc:38] TF-TRT Warning: Cannot dlopen some TensorRT libraries. If you would like to use Nvidia GPU with TensorRT, please make sure the missing libraries mentioned above are installed properly.\n"
     ]
    }
   ],
   "source": [
    "import tensorflow as tf\n",
    "(train_images, train_labels), (test_images, test_labels) = tf.keras.datasets.mnist.load_data()"
   ]
  },
  {
   "cell_type": "code",
   "execution_count": 3,
   "metadata": {},
   "outputs": [
    {
     "name": "stdout",
     "output_type": "stream",
     "text": [
      "(60000, 28, 28)\n",
      "(10000, 28, 28)\n"
     ]
    }
   ],
   "source": [
    "print(train_images.shape)\n",
    "print(test_images.shape)"
   ]
  },
  {
   "cell_type": "code",
   "execution_count": 4,
   "metadata": {},
   "outputs": [],
   "source": [
    "train_images = train_images/255.0"
   ]
  },
  {
   "cell_type": "code",
   "execution_count": 5,
   "metadata": {},
   "outputs": [],
   "source": [
    "test_images = test_images/255.0"
   ]
  },
  {
   "cell_type": "code",
   "execution_count": 6,
   "metadata": {},
   "outputs": [],
   "source": [
    "train_images = np.reshape(train_images, (60000, 784))\n",
    "test_images = np.reshape(test_images, (10000, 784))"
   ]
  },
  {
   "cell_type": "code",
   "execution_count": 7,
   "metadata": {},
   "outputs": [
    {
     "name": "stdout",
     "output_type": "stream",
     "text": [
      "(60000, 784)\n",
      "(10000, 784)\n"
     ]
    }
   ],
   "source": [
    "print(train_images.shape)\n",
    "print(test_images.shape)"
   ]
  },
  {
   "cell_type": "code",
   "execution_count": null,
   "metadata": {},
   "outputs": [],
   "source": []
  },
  {
   "cell_type": "code",
   "execution_count": 8,
   "metadata": {},
   "outputs": [
    {
     "data": {
      "text/plain": [
       "0.9184"
      ]
     },
     "execution_count": 8,
     "metadata": {},
     "output_type": "execute_result"
    }
   ],
   "source": [
    "svm = LinearSVC(dual=False)\n",
    "svm.fit(train_images, train_labels)\n",
    "pred = svm.predict(test_images)\n",
    "accuracy_score(test_labels, pred) "
   ]
  },
  {
   "cell_type": "markdown",
   "metadata": {},
   "source": [
    "ii. Show the predictions for first twenty values of your test dataset. Display the confusion matrix. (4\n",
    "points)"
   ]
  },
  {
   "cell_type": "code",
   "execution_count": 9,
   "metadata": {},
   "outputs": [
    {
     "name": "stdout",
     "output_type": "stream",
     "text": [
      "7\n",
      "2\n",
      "1\n",
      "0\n",
      "4\n",
      "1\n",
      "4\n",
      "9\n",
      "6\n",
      "9\n",
      "0\n",
      "6\n",
      "9\n",
      "0\n",
      "1\n",
      "5\n",
      "9\n",
      "7\n",
      "3\n",
      "4\n"
     ]
    }
   ],
   "source": [
    "for i in range(20):\n",
    "    print(pred[i])"
   ]
  },
  {
   "cell_type": "code",
   "execution_count": 16,
   "metadata": {},
   "outputs": [
    {
     "name": "stdout",
     "output_type": "stream",
     "text": [
      "[[ 962    0    2    1    1    4    5    3    1    1]\n",
      " [   0 1112    3    2    0    1    5    1   11    0]\n",
      " [  11   11  914   18   10    4   13   12   36    3]\n",
      " [   4    0   19  918    2   22    5   12   20    8]\n",
      " [   1    4    5    4  913    0    9    3    5   38]\n",
      " [   9    2    0   39   12  769   17    7   29    8]\n",
      " [   7    4    7    2    5   21  909    1    2    0]\n",
      " [   2    8   23    5    7    1    1  948    4   29]\n",
      " [  11   13    8   21   14   31    8   13  843   12]\n",
      " [   7    8    2   15   31   12    0   26   12  896]]\n"
     ]
    }
   ],
   "source": [
    "confmat = confusion_matrix(test_labels, pred)\n",
    "print(confmat)"
   ]
  },
  {
   "cell_type": "markdown",
   "metadata": {},
   "source": [
    "Write your own function to calculate class-wise F1 score. "
   ]
  },
  {
   "cell_type": "code",
   "execution_count": 17,
   "metadata": {},
   "outputs": [
    {
     "data": {
      "text/plain": [
       "numpy.ndarray"
      ]
     },
     "execution_count": 17,
     "metadata": {},
     "output_type": "execute_result"
    }
   ],
   "source": [
    "type(confmat)"
   ]
  },
  {
   "cell_type": "code",
   "execution_count": 36,
   "metadata": {},
   "outputs": [
    {
     "name": "stdout",
     "output_type": "stream",
     "text": [
      "[0.9487179487179487, 0.9569707401032702, 0.9298067141403866, 0.895609756097561, 0.9175879396984925, 0.8890173410404625, 0.9351851851851852, 0.9239766081871345, 0.8753894080996885, 0.9005025125628141]\n",
      "[0.9816326530612245, 0.9797356828193833, 0.8856589147286822, 0.9089108910891089, 0.929735234215886, 0.8621076233183856, 0.9488517745302714, 0.9221789883268483, 0.8655030800821355, 0.88800792864222]\n"
     ]
    }
   ],
   "source": [
    "from operator import le\n",
    "\n",
    "\n",
    "prec_list = confmat.sum(axis=0)\n",
    "recall_list = confmat.sum(axis=1)\n",
    "precisions = []\n",
    "recalls = []\n",
    "for i in range(10):\n",
    "    precisions.append(float(confmat[i][i])/prec_list[i])\n",
    "    recalls.append(float(confmat[i][i])/recall_list[i])\n",
    "\n",
    "print(precisions)\n",
    "print(recalls)\n"
   ]
  },
  {
   "cell_type": "code",
   "execution_count": 39,
   "metadata": {},
   "outputs": [
    {
     "name": "stdout",
     "output_type": "stream",
     "text": [
      "[0.9648946840521565, 0.9682194166303876, 0.907196029776675, 0.9022113022113023, 0.9236216489630754, 0.8753557199772338, 0.9419689119170985, 0.9230769230769231, 0.8704181724315951, 0.8942115768463074]\n"
     ]
    }
   ],
   "source": [
    "def f1(pr):\n",
    "    (p,r) = pr\n",
    "    return (2*(p*r)/(p+r))\n",
    "f1s = list(map(f1, zip(precisions, recalls)))\n",
    "\n",
    "print(f1s)"
   ]
  },
  {
   "cell_type": "markdown",
   "metadata": {},
   "source": [
    "Check the F1 scores using sklearn inbuilt function and compare the value with the F1 scores returned\n",
    "by your function written from scratch. Also, report the accuracy."
   ]
  },
  {
   "cell_type": "code",
   "execution_count": 40,
   "metadata": {},
   "outputs": [],
   "source": [
    "from sklearn.metrics import f1_score\n",
    "f1s_scikit = f1_score(test_labels, pred, average=None)\n"
   ]
  },
  {
   "cell_type": "code",
   "execution_count": 41,
   "metadata": {},
   "outputs": [
    {
     "name": "stdout",
     "output_type": "stream",
     "text": [
      "[0.9648946840521565, 0.9682194166303876, 0.907196029776675, 0.9022113022113023, 0.9236216489630754, 0.8753557199772338, 0.9419689119170985, 0.9230769230769231, 0.8704181724315951, 0.8942115768463074]\n",
      "[0.96489468 0.96821942 0.90719603 0.9022113  0.92362165 0.87535572\n",
      " 0.94196891 0.92307692 0.87041817 0.89421158]\n"
     ]
    }
   ],
   "source": [
    "print(f1s)\n",
    "print(f1s_scikit)\n"
   ]
  },
  {
   "cell_type": "code",
   "execution_count": 42,
   "metadata": {},
   "outputs": [
    {
     "data": {
      "text/plain": [
       "0.9184"
      ]
     },
     "execution_count": 42,
     "metadata": {},
     "output_type": "execute_result"
    }
   ],
   "source": [
    "accuracy_score(test_labels, pred)"
   ]
  },
  {
   "cell_type": "markdown",
   "metadata": {},
   "source": [
    "(b) Non linear SVM:\n",
    "Build non-linear models with the RBF kernel as well as polynomial kernel. Report the accuracy. (5 points)"
   ]
  },
  {
   "cell_type": "code",
   "execution_count": 43,
   "metadata": {},
   "outputs": [
    {
     "name": "stdout",
     "output_type": "stream",
     "text": [
      "0.9792\n"
     ]
    }
   ],
   "source": [
    "svm = SVC(kernel='rbf')\n",
    "svm.fit(train_images, train_labels)\n",
    "pred = svm.predict(test_images)\n",
    "print(accuracy_score(test_labels, pred) )"
   ]
  },
  {
   "cell_type": "code",
   "execution_count": 44,
   "metadata": {},
   "outputs": [
    {
     "name": "stdout",
     "output_type": "stream",
     "text": [
      "0.9771\n"
     ]
    }
   ],
   "source": [
    "svm = SVC(kernel='poly')\n",
    "svm.fit(train_images, train_labels)\n",
    "pred = svm.predict(test_images)\n",
    "print(accuracy_score(test_labels, pred) )"
   ]
  },
  {
   "cell_type": "code",
   "execution_count": null,
   "metadata": {},
   "outputs": [],
   "source": [
    "C = [50, 10, 1.0, 0.1, 0.01]\n",
    "G = [0.1, 1, 10]\n",
    "grid = dict(C=C,G=G)\n",
    "cv = RepeatedStratifiedKFold(n_splits=10, n_repeats=3, random_state=1)"
   ]
  }
 ],
 "metadata": {
  "kernelspec": {
   "display_name": "Python 3.10.4 64-bit",
   "language": "python",
   "name": "python3"
  },
  "language_info": {
   "codemirror_mode": {
    "name": "ipython",
    "version": 3
   },
   "file_extension": ".py",
   "mimetype": "text/x-python",
   "name": "python",
   "nbconvert_exporter": "python",
   "pygments_lexer": "ipython3",
   "version": "3.10.4"
  },
  "orig_nbformat": 4,
  "vscode": {
   "interpreter": {
    "hash": "916dbcbb3f70747c44a77c7bcd40155683ae19c65e1c03b4aa3499c5328201f1"
   }
  }
 },
 "nbformat": 4,
 "nbformat_minor": 2
}
